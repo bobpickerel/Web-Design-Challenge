{
 "cells": [
  {
   "cell_type": "code",
   "execution_count": 1,
   "id": "28fb17db",
   "metadata": {},
   "outputs": [],
   "source": [
    "# import modules\n",
    "import os\n",
    "import pandas as pd"
   ]
  },
  {
   "cell_type": "code",
   "execution_count": 2,
   "id": "e0633ab7",
   "metadata": {},
   "outputs": [
    {
     "data": {
      "text/html": [
       "<div>\n",
       "<style scoped>\n",
       "    .dataframe tbody tr th:only-of-type {\n",
       "        vertical-align: middle;\n",
       "    }\n",
       "\n",
       "    .dataframe tbody tr th {\n",
       "        vertical-align: top;\n",
       "    }\n",
       "\n",
       "    .dataframe thead th {\n",
       "        text-align: right;\n",
       "    }\n",
       "</style>\n",
       "<table border=\"1\" class=\"dataframe\">\n",
       "  <thead>\n",
       "    <tr style=\"text-align: right;\">\n",
       "      <th></th>\n",
       "      <th>city</th>\n",
       "      <th>lat</th>\n",
       "      <th>long</th>\n",
       "      <th>maxtemp</th>\n",
       "      <th>humidity</th>\n",
       "      <th>cloudiness</th>\n",
       "      <th>windspeed</th>\n",
       "      <th>date</th>\n",
       "    </tr>\n",
       "  </thead>\n",
       "  <tbody>\n",
       "    <tr>\n",
       "      <th>0</th>\n",
       "      <td>Busselton</td>\n",
       "      <td>-33.6500</td>\n",
       "      <td>115.3333</td>\n",
       "      <td>51.89</td>\n",
       "      <td>78</td>\n",
       "      <td>91</td>\n",
       "      <td>3.00</td>\n",
       "      <td>1659702664</td>\n",
       "    </tr>\n",
       "    <tr>\n",
       "      <th>1</th>\n",
       "      <td>Yerbogachën</td>\n",
       "      <td>61.2767</td>\n",
       "      <td>108.0108</td>\n",
       "      <td>54.34</td>\n",
       "      <td>77</td>\n",
       "      <td>100</td>\n",
       "      <td>5.35</td>\n",
       "      <td>1659702665</td>\n",
       "    </tr>\n",
       "    <tr>\n",
       "      <th>2</th>\n",
       "      <td>Hithadhoo</td>\n",
       "      <td>-0.6000</td>\n",
       "      <td>73.0833</td>\n",
       "      <td>82.06</td>\n",
       "      <td>72</td>\n",
       "      <td>100</td>\n",
       "      <td>10.96</td>\n",
       "      <td>1659702643</td>\n",
       "    </tr>\n",
       "    <tr>\n",
       "      <th>3</th>\n",
       "      <td>Sistranda</td>\n",
       "      <td>63.7256</td>\n",
       "      <td>8.8340</td>\n",
       "      <td>60.76</td>\n",
       "      <td>70</td>\n",
       "      <td>4</td>\n",
       "      <td>21.16</td>\n",
       "      <td>1659702665</td>\n",
       "    </tr>\n",
       "    <tr>\n",
       "      <th>4</th>\n",
       "      <td>Cairns</td>\n",
       "      <td>-16.9167</td>\n",
       "      <td>145.7667</td>\n",
       "      <td>73.35</td>\n",
       "      <td>88</td>\n",
       "      <td>100</td>\n",
       "      <td>0.00</td>\n",
       "      <td>1659702648</td>\n",
       "    </tr>\n",
       "  </tbody>\n",
       "</table>\n",
       "</div>"
      ],
      "text/plain": [
       "          city      lat      long  maxtemp  humidity  cloudiness  windspeed  \\\n",
       "0    Busselton -33.6500  115.3333    51.89        78          91       3.00   \n",
       "1  Yerbogachën  61.2767  108.0108    54.34        77         100       5.35   \n",
       "2    Hithadhoo  -0.6000   73.0833    82.06        72         100      10.96   \n",
       "3    Sistranda  63.7256    8.8340    60.76        70           4      21.16   \n",
       "4       Cairns -16.9167  145.7667    73.35        88         100       0.00   \n",
       "\n",
       "         date  \n",
       "0  1659702664  \n",
       "1  1659702665  \n",
       "2  1659702643  \n",
       "3  1659702665  \n",
       "4  1659702648  "
      ]
     },
     "execution_count": 2,
     "metadata": {},
     "output_type": "execute_result"
    }
   ],
   "source": [
    "cityData = pd.read_csv('cities.csv')\n",
    "cityData.head()"
   ]
  },
  {
   "cell_type": "code",
   "execution_count": 3,
   "id": "08a34277",
   "metadata": {},
   "outputs": [],
   "source": [
    "cityData.to_html('tableData_bob.html', index=False, classes=['table', 'table-striped', 'table-hover'])"
   ]
  },
  {
   "cell_type": "code",
   "execution_count": null,
   "id": "9049df54",
   "metadata": {},
   "outputs": [],
   "source": []
  }
 ],
 "metadata": {
  "kernelspec": {
   "display_name": "Python 3 (ipykernel)",
   "language": "python",
   "name": "python3"
  },
  "language_info": {
   "codemirror_mode": {
    "name": "ipython",
    "version": 3
   },
   "file_extension": ".py",
   "mimetype": "text/x-python",
   "name": "python",
   "nbconvert_exporter": "python",
   "pygments_lexer": "ipython3",
   "version": "3.9.7"
  }
 },
 "nbformat": 4,
 "nbformat_minor": 5
}
